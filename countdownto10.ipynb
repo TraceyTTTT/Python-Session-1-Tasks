{
  "nbformat": 4,
  "nbformat_minor": 0,
  "metadata": {
    "colab": {
      "name": "Untitled0.ipynb",
      "provenance": [],
      "authorship_tag": "ABX9TyMmi4si/hbd4ttoZfqe0yVV",
      "include_colab_link": true
    },
    "kernelspec": {
      "name": "python3",
      "display_name": "Python 3"
    },
    "language_info": {
      "name": "python"
    }
  },
  "cells": [
    {
      "cell_type": "markdown",
      "metadata": {
        "id": "view-in-github",
        "colab_type": "text"
      },
      "source": [
        "<a href=\"https://colab.research.google.com/github/TraceyTTTT/TraceyTTTT/blob/main/countdownto10.ipynb\" target=\"_parent\"><img src=\"https://colab.research.google.com/assets/colab-badge.svg\" alt=\"Open In Colab\"/></a>"
      ]
    },
    {
      "cell_type": "code",
      "metadata": {
        "id": "gpt0xQJ63V5S",
        "colab": {
          "base_uri": "https://localhost:8080/"
        },
        "outputId": "7f1de6de-fa8f-4ad3-a262-7b7ba264f23a"
      },
      "source": [
        "user_num = input (\"Please enter a number \")\n",
        "user_num = int(user_num)\n",
        "while user_num > 0 :\n",
        "  print (user_num)\n",
        "  user_num = user_num - 1"
      ],
      "execution_count": 19,
      "outputs": [
        {
          "output_type": "stream",
          "name": "stdout",
          "text": [
            "Please enter a number 10\n",
            "10\n",
            "9\n",
            "8\n",
            "7\n",
            "6\n",
            "5\n",
            "4\n",
            "3\n",
            "2\n",
            "1\n"
          ]
        }
      ]
    }
  ]
}