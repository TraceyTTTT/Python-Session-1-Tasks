{
  "nbformat": 4,
  "nbformat_minor": 0,
  "metadata": {
    "colab": {
      "name": "Favemeal.ipynb",
      "provenance": [],
      "authorship_tag": "ABX9TyMXJy1tz00Bh8JkYxqOYZr/",
      "include_colab_link": true
    },
    "kernelspec": {
      "name": "python3",
      "display_name": "Python 3"
    },
    "language_info": {
      "name": "python"
    }
  },
  "cells": [
    {
      "cell_type": "markdown",
      "metadata": {
        "id": "view-in-github",
        "colab_type": "text"
      },
      "source": [
        "<a href=\"https://colab.research.google.com/github/TraceyTTTT/Python-Session-1-Tasks/blob/main/Favemeal.ipynb\" target=\"_parent\"><img src=\"https://colab.research.google.com/assets/colab-badge.svg\" alt=\"Open In Colab\"/></a>"
      ]
    },
    {
      "cell_type": "code",
      "metadata": {
        "colab": {
          "base_uri": "https://localhost:8080/"
        },
        "id": "OB5Snzb_kzNA",
        "outputId": "06ac4372-42b0-4f37-8cc3-259af55036ec"
      },
      "source": [
        "myName = input(\"What is your name? \")\n",
        "print(\"Nice name!\")\n",
        "faveStarter = input(\"What is your favourite starter? \")\n",
        "print(\"Tasty!\")\n",
        "faveMain = input(\"Sooo... What about your fave main course? \")\n",
        "print(\"Yum!\")\n",
        "faveDessert = input(\"Now, what about dessert? \")\n",
        "print(\"Ooh? \")\n",
        "faveDrink = input(\"(What is your favourite drink?\" )\n",
        "print(\"I see that you like, \" + faveStarter + \", \" +  faveMain + \", \" +  faveDessert + \" and a glass of \" + faveDrink)"
      ],
      "execution_count": 47,
      "outputs": [
        {
          "output_type": "stream",
          "name": "stdout",
          "text": [
            "What is your name? Tracey\n",
            "Nice name!\n",
            "What is your favourite starter? Chilli prawns\n",
            "Tasty!\n",
            "Sooo... What about your fave main course? Lamb\n",
            "Yum!\n",
            "Now, what about dessert? Fruit\n",
            "Ooh? \n",
            "(What is your favourite drink?Coke\n",
            "I see that you like, Chilli prawns, Lamb, Fruit and a glass of Coke\n"
          ]
        }
      ]
    }
  ]
}