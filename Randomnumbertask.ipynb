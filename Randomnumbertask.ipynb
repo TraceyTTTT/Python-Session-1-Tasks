{
  "nbformat": 4,
  "nbformat_minor": 0,
  "metadata": {
    "colab": {
      "name": "Randomnumbertask.ipynb",
      "provenance": [],
      "authorship_tag": "ABX9TyMp84msooeOx5mwETUCT1y0",
      "include_colab_link": true
    },
    "kernelspec": {
      "name": "python3",
      "display_name": "Python 3"
    },
    "language_info": {
      "name": "python"
    }
  },
  "cells": [
    {
      "cell_type": "markdown",
      "metadata": {
        "id": "view-in-github",
        "colab_type": "text"
      },
      "source": [
        "<a href=\"https://colab.research.google.com/github/TraceyTTTT/TraceyTTTT/blob/main/Randomnumbertask.ipynb\" target=\"_parent\"><img src=\"https://colab.research.google.com/assets/colab-badge.svg\" alt=\"Open In Colab\"/></a>"
      ]
    },
    {
      "cell_type": "code",
      "metadata": {
        "colab": {
          "base_uri": "https://localhost:8080/"
        },
        "id": "4Ekwd6BGW8P4",
        "outputId": "ab84e5e9-e024-4e94-89de-59ba45cec1a9"
      },
      "source": [
        "import random\n",
        "myName = input(\"Hello! What is your name? \" )\n",
        "number = random.randint(1,10)\n",
        "print(\"Well \" + myName + \", I am thinking of a number between 1 and 10.\")\n",
        "guess = int(input(\"Take a guess! \"))\n",
        "if guess == number:\n",
        "  print(\"Good job, \" + myName + \"! You guessed my number!\")\n",
        "else:\n",
        "  print(\"Wrong, better luck next time :(\")"
      ],
      "execution_count": 53,
      "outputs": [
        {
          "output_type": "stream",
          "name": "stdout",
          "text": [
            "Hello! What is your name? t\n",
            "Well t, I am thinking of a number between 1 and 10.\n",
            "Take a guess! 9\n",
            "Good job, t! You guessed my number\n"
          ]
        }
      ]
    },
    {
      "cell_type": "code",
      "metadata": {
        "id": "z5wzprYxcJsQ"
      },
      "source": [
        ""
      ],
      "execution_count": null,
      "outputs": []
    }
  ]
}